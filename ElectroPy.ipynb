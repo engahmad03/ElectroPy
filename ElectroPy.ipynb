{
 "cells": [
  {
   "cell_type": "code",
   "execution_count": null,
   "id": "a0ee4cd8",
   "metadata": {},
   "outputs": [],
   "source": [
    "# ElectroPy\n",
    "# SEPES\n",
    "# Al-Amarah University College\n",
    "# Electrical Power Engineering Dep.\n",
    "# Ahmad Aqeel A. Salih"
   ]
  },
  {
   "cell_type": "code",
   "execution_count": 2,
   "id": "b0874c2f",
   "metadata": {},
   "outputs": [
    {
     "name": "stdout",
     "output_type": "stream",
     "text": [
      "Power equals 4.0 Watts\n",
      "Resistance equals 1.0 Ohm\n"
     ]
    }
   ],
   "source": [
    "#Use me if you need either Power or Resistance\n",
    "a = float(input(\"Please enter Voltage\"))\n",
    "b = float(input(\"Please enter Current\"))\n",
    "\n",
    "p = a * b\n",
    "r = a / b\n",
    "print(\"Power equals\", p, \"Watts\")\n",
    "print(\"Resistance equals\", r, \"Ohm\")"
   ]
  },
  {
   "cell_type": "code",
   "execution_count": 3,
   "id": "18fc4892",
   "metadata": {},
   "outputs": [
    {
     "name": "stdout",
     "output_type": "stream",
     "text": [
      "Current equals 1.0 Amp\n",
      "Voltage equals 2.0 Volt\n"
     ]
    }
   ],
   "source": [
    "#Use me if you need either Current or Voltage\n",
    "c = float(input(\"Please enter Power:\"))\n",
    "d = float(input(\"Please enter Resistance:\"))\n",
    "\n",
    "import math\n",
    "\n",
    "i = math.sqrt(c / d)\n",
    "v = math.sqrt(c * d)\n",
    "print(\"Current equals\", i, \"Amp\")\n",
    "print(\"Voltage equals\", v, \"Volt\")"
   ]
  },
  {
   "cell_type": "code",
   "execution_count": 4,
   "id": "4dcd1285",
   "metadata": {},
   "outputs": [],
   "source": [
    "#Use me if you need either Voltage or Resistance\n",
    "e = float(input(\"Please enter Power:\"))\n",
    "f = float(input(\"Please enter Current:\"))\n",
    "\n",
    "v = e / f\n",
    "r = e / pow(f, 2)\n",
    "\n",
    "print(\"Voltage equals\", v, \"Volt\")\n",
    "print(\"Resistance equals\", r, \"Ohm\")"
   ]
  },
  {
   "cell_type": "code",
   "execution_count": null,
   "id": "9f7adb76",
   "metadata": {},
   "outputs": [],
   "source": [
    "#Use me if you need either Power or Current\n",
    "g = float(input(\"Please enter Voltage:\"))\n",
    "k = float(input(\"Please enter Resistance:\"))\n",
    "import math\n",
    "p = pow(g, 2)/k\n",
    "i = g / k\n",
    "\n",
    "print(\"Current equals:\", i, \"Amp\")\n",
    "print(\"Power equals:\", p, \"Watt\")"
   ]
  },
  {
   "cell_type": "code",
   "execution_count": null,
   "id": "e186318f",
   "metadata": {},
   "outputs": [],
   "source": [
    "#Reactance Calculator and Impedance\n",
    "f = float(input(\"Please enter Frequency:\"))\n",
    "c = float(input(\"Please enter Capacitance with decimals:\"))\n",
    "l = float(input(\"Please enter Inductance with decimals:\"))\n",
    "r = float(input(\"Please enter Resistance:\"))\n",
    "import math\n",
    "\n",
    "w = ((2*math.pi)*f)\n",
    "\n",
    "C = (1 / (w*c))\n",
    "L = w*l\n",
    "X = abs(L - C)\n",
    "Z = math.sqrt(pow(r,2) + pow(X,2))\n",
    "Y = 1 / Z\n",
    "\n",
    "print(\"XL equals:\", L, \"Ohm\")\n",
    "print(\"XC equals:\", C, \"Ohm\")\n",
    "print(\"Z equals:\", Z, \"Ohm\")\n",
    "print(\"Admittance equals:\", Y, \"Mho\")"
   ]
  },
  {
   "cell_type": "code",
   "execution_count": null,
   "id": "0bde0e5d",
   "metadata": {},
   "outputs": [],
   "source": [
    "#Use me if you need effective current and voltage\n",
    "a = float(input(\"Please enter Maximum Voltage with decimals:\"))\n",
    "b = float(input(\"Please enter Maximum Current with decimals:\"))\n",
    "import math\n",
    "i_eff = b /math.sqrt(2)\n",
    "v_eff = a /math.sqrt(2)\n",
    "print(\"Effective voltage equals:\", v_eff, \"V\")\n",
    "print(\"Effective current equals:\", i_eff, \"A\")"
   ]
  },
  {
   "cell_type": "code",
   "execution_count": null,
   "id": "2086d50b",
   "metadata": {},
   "outputs": [],
   "source": [
    "#Use me if you need Frequency\n",
    "\n",
    "c = float(input(\"Please enter Capacitance with decimals:\"))\n",
    "l = float(input(\"Please enter Inductance with decimals:\"))\n",
    "import math\n",
    "f = 1 / ((2*3.141592654)*((c * l)**0.5))\n",
    "print(f)"
   ]
  },
  {
   "cell_type": "code",
   "execution_count": null,
   "id": "d4c27f86",
   "metadata": {},
   "outputs": [],
   "source": [
    "# Use me if you need Voltage Divider\n",
    "print(\"Please only put the amout of resistors you have in series better less than 10\")\n",
    "print(\"Please put Zero in inputs who you do have their vlaue\")\n",
    "v1 = float(input(\"Please enter Resistance\"))\n",
    "v2 = float(input(\"Please enter Resistance\"))\n",
    "v3 = float(input(\"Please enter Resistance\"))\n",
    "v4 = float(input(\"Please enter Resistance\"))\n",
    "v5 = float(input(\"Please enter Resistance\"))\n",
    "v6 = float(input(\"Please enter Resistance\"))\n",
    "v7 = float(input(\"Please enter Resistance\"))\n",
    "v8 = float(input(\"Please enter Resistance\"))\n",
    "v9 = float(input(\"Please enter Resistance\"))\n",
    "v10 = float(input(\"Please enter Resistance\"))\n",
    "vt = float(input(\"Please enter TOTAL Voltage\"))\n",
    "Vo = v1 + v2 + v4 + v5 + v6 + v7 + v8 + v9 + v10 + v3\n",
    "\n",
    "q1 = vt * (v1 / Vo)\n",
    "q2 = vt * (v2 / Vo)\n",
    "q3 = vt * (v3 / Vo)\n",
    "q4 = vt * (v4 / Vo)\n",
    "q5 = vt * (v5 / Vo)\n",
    "q6 = vt * (v6 / Vo)\n",
    "q7 = vt * (v7 / Vo)\n",
    "q8 = vt * (v8 / Vo)\n",
    "q9 = vt * (v9 / Vo)\n",
    "q10 = vt * (v10 / Vo)\n",
    "\n",
    "print(\"1st voltage equals\", q1, \"Volt\")\n",
    "print(\"2nd voltage equals\", q2, \"Volt\")\n",
    "print(\"3rd voltage equals\", q3, \"Volt\")\n",
    "print(\"4th voltage equals\", q4, \"Volt\")\n",
    "print(\"5th voltage equals\", q5, \"Volt\")\n",
    "print(\"6th voltage equals\", q6, \"Volt\")\n",
    "print(\"7th voltage equals\", q7, \"Volt\")\n",
    "print(\"8th voltage equals\", q8, \"Volt\")\n",
    "print(\"9th voltage equals\", q9, \"Volt\")\n",
    "print(\"10th voltage equals\", q10, \"Volt\")"
   ]
  },
  {
   "cell_type": "markdown",
   "id": "6a0674fb",
   "metadata": {},
   "source": [
    "##### "
   ]
  },
  {
   "cell_type": "code",
   "execution_count": null,
   "id": "fe67e862",
   "metadata": {},
   "outputs": [],
   "source": [
    "#Voltage and Current in AC \n",
    "v1 = float(input(\"Please enter Resistance\"))\n",
    "v2 = float(input(\"Please enter Resistance\"))"
   ]
  },
  {
   "cell_type": "code",
   "execution_count": null,
   "id": "deabc158",
   "metadata": {},
   "outputs": [],
   "source": [
    "# Current Divider 5 as MAXIMUM\n",
    "i1 = float(input(\"Please enter Resistance\"))\n",
    "i2 = float(input(\"Please enter Resistance\"))\n",
    "i3 = float(input(\"Please enter Resistance\"))\n",
    "i4 = float(input(\"Please enter Resistance\"))\n",
    "i5 = float(input(\"Please enter Resistance\"))\n",
    "imax = float(input(\"Please enter total current\"))\n",
    "bc = (1/i1)+(1/i2)+(1/i3)+(1/i4)+(1/i1)+(1/i5)\n",
    "\n",
    "a1 = ((1/i1)/bc)*imax\n",
    "a2 = ((1/i2)/bc)*imax\n",
    "a3 = ((1/i3)/bc)*imax\n",
    "a4 = ((1/i4)/bc)*imax\n",
    "a5 = ((1/i5)/bc)*imax\n",
    "print(a1)\n",
    "print(a2)\n",
    "print(a3)\n",
    "print(a4)\n",
    "print(a5)"
   ]
  },
  {
   "cell_type": "code",
   "execution_count": null,
   "id": "dae2b31b",
   "metadata": {},
   "outputs": [],
   "source": [
    "# Complex numbers Impedance calculator\n",
    "f = float(input(\"Please enter Frequency:\"))\n",
    "c = float(input(\"Please enter Capacitance with decimals:\"))\n",
    "l = float(input(\"Please enter Inductance with decimals:\"))\n",
    "r = float(input(\"Please enter Resistance:\"))\n",
    "import math\n",
    "pi = math.pi\n",
    "w = ((2*pi)*f)\n",
    "\n",
    "C = (1 / (w*c)*1j)\n",
    "L = (w*l*1j)\n",
    "X = abs(L - C)\n",
    "Z = math.sqrt(pow(r,2) + pow(X,2))\n",
    "Y = 1 / Z\n",
    "P = math.degrees(math.atan(X/r))\n",
    "im_com = (r + (C+L))\n",
    "print(\"XL equals:\", L, \"Ohm\")\n",
    "print(\"XC equals:\", C, \"Ohm\")\n",
    "print(\"Z equals:\", Z, \"Ohm\")\n",
    "print(\"Admittance equals:\", Y, \"Mho\")\n",
    "print(\"Phase angle equals:\", P, \"degree\")\n",
    "print(\"Impedance in complex form is \", im_com,\" Ohm\")"
   ]
  },
  {
   "cell_type": "code",
   "execution_count": null,
   "id": "71af5212",
   "metadata": {},
   "outputs": [],
   "source": [
    "# how to get tan inverse in degree\n",
    "import math\n",
    "x = 50\n",
    "pi = math.pi\n",
    "b = x /180\n",
    "c = math.atan(0.5)*180/pi\n",
    "print(c)\n",
    "# Better method \n",
    "q = math.radians(90)\n",
    "w = math.degrees(math.pi/6)\n",
    "print(q)\n",
    "print(w)"
   ]
  },
  {
   "cell_type": "code",
   "execution_count": null,
   "id": "acc502d9",
   "metadata": {},
   "outputs": [],
   "source": [
    "# Polar to rectangular\n",
    "a = float(input(\"Please enter \"r\"\"))\n",
    "b = float(input(\"Please enter Theta\"))\n",
    "import math\n",
    "pi = math.pi\n",
    "f = math.radians(b)\n",
    "cos = math.cos(f)\n",
    "sin = math.sin(f)\n",
    "real = (a*cos)\n",
    "imag = (a*sin)*1j\n",
    "togath = real + imag\n",
    "\n",
    "print(real)\n",
    "print(imag)\n",
    "print(togath)"
   ]
  },
  {
   "cell_type": "code",
   "execution_count": null,
   "id": "b8065c6f",
   "metadata": {},
   "outputs": [],
   "source": [
    "# Retangular  to Polar\n",
    "real = float(input(\"Please enter REAL PART\"))\n",
    "imag = float(input(\"Please enter IMAGINARY PART\"))\n",
    "import math\n",
    "theta = math.degrees(math.atan(imag/real))\n",
    "r = math.sqrt(pow(real,2) + pow(imag,2))\n",
    "print(theta)\n",
    "print(r)"
   ]
  },
  {
   "cell_type": "code",
   "execution_count": null,
   "id": "57f801a9",
   "metadata": {},
   "outputs": [],
   "source": [
    "# Delta to Star converison\n",
    "Ra = float(input(\"Please enter Ra\")) # on the right side\n",
    "Rb = float(input(\"Please enter Rb\")) # on the left side\n",
    "Rc = float(input(\"Please enter Rc\")) # on below\n",
    "# R3 is between a & b\n",
    "# R2 is between a & c\n",
    "# R1 is between b & c\n",
    "v = (Ra + Rb + Rc)\n",
    "R1 = (Rc*Rb/v)\n",
    "R2 = (Ra*Rc/v)\n",
    "R3 = (Ra*Rb/v)\n",
    "print(\"R1 equals:\", R1, \"Ohm\") # Up\n",
    "print(\"R2 equals:\", R2, \"Ohm\") # Left\n",
    "print(\"R3 equals:\", R3, \"Ohm\") # Right\n",
    "# Note; Flip the circuit's side 90degree until you get a triangle for accurate results"
   ]
  },
  {
   "cell_type": "markdown",
   "id": "d0d2fd0c",
   "metadata": {},
   "source": [
    "## "
   ]
  },
  {
   "cell_type": "code",
   "execution_count": null,
   "id": "538ce21f",
   "metadata": {},
   "outputs": [],
   "source": [
    "# Star to Delta converison\n",
    "R3 = float(input(\"Please enter R3\")) # on the top\n",
    "R1 = float(input(\"Please enter R1\")) # on the left side\n",
    "R2 = float(input(\"Please enter R2\")) # on the right side\n",
    "Ralpha = ((R3*R1)+(R1*R2)+(R2*R3))\n",
    "# Ra for R1\n",
    "# Rb for R2\n",
    "# Rc for R3\n",
    "# Star Resistance equals Ralpha/the farest delta resistance\n",
    "# Flip Star circuit until R3 on the top, R1 on the left side and R2 on the right side for accurate results\n",
    "Ra = (Ralpha/R1)\n",
    "Rb = (Ralpha/R2)\n",
    "Rc = (Ralpha/R3)\n",
    "print(\"Ralpha\", Ralpha, \"Ohm\")\n",
    "print(\"Ra Resistance equals: \", Ra, \"Ohm\" )\n",
    "print(\"Rb Resistance equals: \", Rb, \"Ohm\" )\n",
    "print(\"Rc Resistance equals: \", Rc, \"Ohm\" )"
   ]
  },
  {
   "cell_type": "code",
   "execution_count": null,
   "id": "fe190460",
   "metadata": {},
   "outputs": [],
   "source": [
    "# ElectroPy\n",
    "# SEPES\n",
    "# Al-Amarah University College\n",
    "# Electrical Power Engineering Dep."
   ]
  },
  {
   "cell_type": "code",
   "execution_count": null,
   "id": "2d01816c",
   "metadata": {},
   "outputs": [],
   "source": [
    "#Wind Power Calculation\n",
    "from cmath import pi\n",
    "import numpy as np\n",
    "r = float(input(\"Please enter Radius:\"))\n",
    "pi = np.pi\n",
    "air_density = 1.225 #kg/m^3\n",
    "Area = pi * pow(r,2)\n",
    "air_speed = float(input(\"Please enter Air Speed in m/s:\"))\n",
    "V = pow(air_speed,3)\n",
    "P = (air_density * Area * V)/2\n",
    "print(f\"Power generated equals {P} Watts\")"
   ]
  }
 ],
 "metadata": {
  "kernelspec": {
   "display_name": "Python 3.10.4 64-bit",
   "language": "python",
   "name": "python3"
  },
  "language_info": {
   "codemirror_mode": {
    "name": "ipython",
    "version": 3
   },
   "file_extension": ".py",
   "mimetype": "text/x-python",
   "name": "python",
   "nbconvert_exporter": "python",
   "pygments_lexer": "ipython3",
   "version": "3.10.4"
  },
  "vscode": {
   "interpreter": {
    "hash": "26de051ba29f2982a8de78e945f0abaf191376122a1563185a90213a26c5da77"
   }
  }
 },
 "nbformat": 4,
 "nbformat_minor": 5
}
